{
 "cells": [
  {
   "cell_type": "markdown",
   "id": "e577a07f",
   "metadata": {},
   "source": [
    "# 🎵 Projet Data Integration : Analyse des playlists Spotify\n",
    "\n",
    "**Objectif :**  \n",
    "Le directeur de la radio **BFM FM** souhaite savoir **combien de fois \"Beyoncé\" apparaît** dans le dataset des playlists Spotify.\n"
   ]
  },
  {
   "cell_type": "markdown",
   "id": "a031f370",
   "metadata": {},
   "source": [
    "## 🧩 Étape 1 : Télécharger le dataset\n",
    "\n",
    "Le dataset contient **1 million de playlists réelles** issues de Spotify.\n",
    "\n",
    "[🔗 Lien de téléchargement Dropbox](https://www.dropbox.com/scl/fi/slwxa6ncsni6efjye7q70/spotify_million_playlist_dataset.zip?rlkey=axq1z4b8ran77u8grvpmmxm61&dl=0)\n"
   ]
  },
  {
   "cell_type": "markdown",
   "id": "e70bf3c4",
   "metadata": {},
   "source": []
  }
 ],
 "metadata": {
  "language_info": {
   "name": "python"
  }
 },
 "nbformat": 4,
 "nbformat_minor": 5
}
